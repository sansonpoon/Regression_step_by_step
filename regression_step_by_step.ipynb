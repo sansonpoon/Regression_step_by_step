{
 "cells": [
  {
   "cell_type": "code",
   "execution_count": 1,
   "metadata": {},
   "outputs": [],
   "source": [
    "# Importing libraries\n",
    "import numpy as np\n",
    "import pandas as pd\n",
    "import scipy.stats\n",
    "import matplotlib.pyplot as plt\n",
    "\n",
    "%matplotlib inline"
   ]
  },
  {
   "cell_type": "code",
   "execution_count": 2,
   "metadata": {},
   "outputs": [
    {
     "name": "stdout",
     "output_type": "stream",
     "text": [
      "Shape =  (300, 3)\n"
     ]
    },
    {
     "data": {
      "text/html": [
       "<div>\n",
       "<style scoped>\n",
       "    .dataframe tbody tr th:only-of-type {\n",
       "        vertical-align: middle;\n",
       "    }\n",
       "\n",
       "    .dataframe tbody tr th {\n",
       "        vertical-align: top;\n",
       "    }\n",
       "\n",
       "    .dataframe thead th {\n",
       "        text-align: right;\n",
       "    }\n",
       "</style>\n",
       "<table border=\"1\" class=\"dataframe\">\n",
       "  <thead>\n",
       "    <tr style=\"text-align: right;\">\n",
       "      <th></th>\n",
       "      <th>0</th>\n",
       "      <th>1</th>\n",
       "      <th>2</th>\n",
       "    </tr>\n",
       "  </thead>\n",
       "  <tbody>\n",
       "    <tr>\n",
       "      <th>0</th>\n",
       "      <td>0.490</td>\n",
       "      <td>-0.18</td>\n",
       "      <td>11.50</td>\n",
       "    </tr>\n",
       "    <tr>\n",
       "      <th>1</th>\n",
       "      <td>-1.410</td>\n",
       "      <td>-1.23</td>\n",
       "      <td>11.80</td>\n",
       "    </tr>\n",
       "    <tr>\n",
       "      <th>2</th>\n",
       "      <td>0.943</td>\n",
       "      <td>4.51</td>\n",
       "      <td>-3.24</td>\n",
       "    </tr>\n",
       "    <tr>\n",
       "      <th>3</th>\n",
       "      <td>3.570</td>\n",
       "      <td>5.07</td>\n",
       "      <td>-23.90</td>\n",
       "    </tr>\n",
       "    <tr>\n",
       "      <th>4</th>\n",
       "      <td>-1.700</td>\n",
       "      <td>6.91</td>\n",
       "      <td>-22.10</td>\n",
       "    </tr>\n",
       "  </tbody>\n",
       "</table>\n",
       "</div>"
      ],
      "text/plain": [
       "       0     1      2\n",
       "0  0.490 -0.18  11.50\n",
       "1 -1.410 -1.23  11.80\n",
       "2  0.943  4.51  -3.24\n",
       "3  3.570  5.07 -23.90\n",
       "4 -1.700  6.91 -22.10"
      ]
     },
     "execution_count": 2,
     "metadata": {},
     "output_type": "execute_result"
    }
   ],
   "source": [
    "#Read in the data\n",
    "df = pd.read_csv(\"dataset.csv\", header=None)\n",
    "print(\"Shape = \",df.shape)\n",
    "df.head()"
   ]
  },
  {
   "cell_type": "code",
   "execution_count": 3,
   "metadata": {},
   "outputs": [
    {
     "name": "stdout",
     "output_type": "stream",
     "text": [
      "Removed  2 anomalies.\n"
     ]
    }
   ],
   "source": [
    "#Remove anomalies\n",
    "ori_len = len(df)\n",
    "z_scores = scipy.stats.zscore(df)\n",
    "abs_z_scores = np.abs(z_scores)\n",
    "filtered_entries = (abs_z_scores < 3).all(axis=1) # Remove the anomalies that have a large Z-score\n",
    "df = df[filtered_entries]\n",
    "new_len = len(df)\n",
    "print('Removed ',ori_len-new_len, 'anomalies.')"
   ]
  },
  {
   "cell_type": "code",
   "execution_count": 4,
   "metadata": {},
   "outputs": [
    {
     "data": {
      "text/html": [
       "<div>\n",
       "<style scoped>\n",
       "    .dataframe tbody tr th:only-of-type {\n",
       "        vertical-align: middle;\n",
       "    }\n",
       "\n",
       "    .dataframe tbody tr th {\n",
       "        vertical-align: top;\n",
       "    }\n",
       "\n",
       "    .dataframe thead th {\n",
       "        text-align: right;\n",
       "    }\n",
       "</style>\n",
       "<table border=\"1\" class=\"dataframe\">\n",
       "  <thead>\n",
       "    <tr style=\"text-align: right;\">\n",
       "      <th></th>\n",
       "      <th>00</th>\n",
       "      <th>0</th>\n",
       "      <th>1</th>\n",
       "      <th>2</th>\n",
       "    </tr>\n",
       "  </thead>\n",
       "  <tbody>\n",
       "    <tr>\n",
       "      <th>0</th>\n",
       "      <td>1</td>\n",
       "      <td>0.490</td>\n",
       "      <td>-0.18</td>\n",
       "      <td>11.50</td>\n",
       "    </tr>\n",
       "    <tr>\n",
       "      <th>1</th>\n",
       "      <td>1</td>\n",
       "      <td>-1.410</td>\n",
       "      <td>-1.23</td>\n",
       "      <td>11.80</td>\n",
       "    </tr>\n",
       "    <tr>\n",
       "      <th>2</th>\n",
       "      <td>1</td>\n",
       "      <td>0.943</td>\n",
       "      <td>4.51</td>\n",
       "      <td>-3.24</td>\n",
       "    </tr>\n",
       "    <tr>\n",
       "      <th>3</th>\n",
       "      <td>1</td>\n",
       "      <td>3.570</td>\n",
       "      <td>5.07</td>\n",
       "      <td>-23.90</td>\n",
       "    </tr>\n",
       "    <tr>\n",
       "      <th>4</th>\n",
       "      <td>1</td>\n",
       "      <td>-1.700</td>\n",
       "      <td>6.91</td>\n",
       "      <td>-22.10</td>\n",
       "    </tr>\n",
       "  </tbody>\n",
       "</table>\n",
       "</div>"
      ],
      "text/plain": [
       "   00      0     1      2\n",
       "0   1  0.490 -0.18  11.50\n",
       "1   1 -1.410 -1.23  11.80\n",
       "2   1  0.943  4.51  -3.24\n",
       "3   1  3.570  5.07 -23.90\n",
       "4   1 -1.700  6.91 -22.10"
      ]
     },
     "execution_count": 4,
     "metadata": {},
     "output_type": "execute_result"
    }
   ],
   "source": [
    "#Add first column of 1 for the bias term.\n",
    "df = pd.concat([pd.Series(1, index=df.index, name='00'), df], axis=1)\n",
    "df.head()"
   ]
  },
  {
   "cell_type": "code",
   "execution_count": 5,
   "metadata": {},
   "outputs": [],
   "source": [
    "#Allocate variables\n",
    "X = df.drop(columns=2)\n",
    "y = df.iloc[:, 3]"
   ]
  },
  {
   "cell_type": "code",
   "execution_count": 6,
   "metadata": {},
   "outputs": [
    {
     "data": {
      "text/html": [
       "<div>\n",
       "<style scoped>\n",
       "    .dataframe tbody tr th:only-of-type {\n",
       "        vertical-align: middle;\n",
       "    }\n",
       "\n",
       "    .dataframe tbody tr th {\n",
       "        vertical-align: top;\n",
       "    }\n",
       "\n",
       "    .dataframe thead th {\n",
       "        text-align: right;\n",
       "    }\n",
       "</style>\n",
       "<table border=\"1\" class=\"dataframe\">\n",
       "  <thead>\n",
       "    <tr style=\"text-align: right;\">\n",
       "      <th></th>\n",
       "      <th>00</th>\n",
       "      <th>0</th>\n",
       "      <th>1</th>\n",
       "    </tr>\n",
       "  </thead>\n",
       "  <tbody>\n",
       "    <tr>\n",
       "      <th>0</th>\n",
       "      <td>1</td>\n",
       "      <td>-0.311367</td>\n",
       "      <td>-0.737698</td>\n",
       "    </tr>\n",
       "    <tr>\n",
       "      <th>1</th>\n",
       "      <td>1</td>\n",
       "      <td>-0.651456</td>\n",
       "      <td>-1.088457</td>\n",
       "    </tr>\n",
       "    <tr>\n",
       "      <th>2</th>\n",
       "      <td>1</td>\n",
       "      <td>-0.230283</td>\n",
       "      <td>0.829027</td>\n",
       "    </tr>\n",
       "    <tr>\n",
       "      <th>3</th>\n",
       "      <td>1</td>\n",
       "      <td>0.239934</td>\n",
       "      <td>1.016099</td>\n",
       "    </tr>\n",
       "    <tr>\n",
       "      <th>4</th>\n",
       "      <td>1</td>\n",
       "      <td>-0.703364</td>\n",
       "      <td>1.630762</td>\n",
       "    </tr>\n",
       "  </tbody>\n",
       "</table>\n",
       "</div>"
      ],
      "text/plain": [
       "   00         0         1\n",
       "0   1 -0.311367 -0.737698\n",
       "1   1 -0.651456 -1.088457\n",
       "2   1 -0.230283  0.829027\n",
       "3   1  0.239934  1.016099\n",
       "4   1 -0.703364  1.630762"
      ]
     },
     "execution_count": 6,
     "metadata": {},
     "output_type": "execute_result"
    }
   ],
   "source": [
    "#Feature scaling, standardization\n",
    "for i in range(1, len(X.columns)):\n",
    "    X[i-1] = scipy.stats.zscore(X[i-1])\n",
    "    # z_scores can also calculate in the following way (without using scipy.stats). \n",
    "    # X[i-1] = (X[i-1]-np.mean(X[i-1]))/np.std(X[i-1]) \n",
    "X.head()"
   ]
  },
  {
   "cell_type": "code",
   "execution_count": 7,
   "metadata": {},
   "outputs": [
    {
     "data": {
      "text/html": [
       "<div>\n",
       "<style scoped>\n",
       "    .dataframe tbody tr th:only-of-type {\n",
       "        vertical-align: middle;\n",
       "    }\n",
       "\n",
       "    .dataframe tbody tr th {\n",
       "        vertical-align: top;\n",
       "    }\n",
       "\n",
       "    .dataframe thead th {\n",
       "        text-align: right;\n",
       "    }\n",
       "</style>\n",
       "<table border=\"1\" class=\"dataframe\">\n",
       "  <thead>\n",
       "    <tr style=\"text-align: right;\">\n",
       "      <th></th>\n",
       "      <th>00</th>\n",
       "      <th>0</th>\n",
       "      <th>1</th>\n",
       "      <th>2</th>\n",
       "      <th>3</th>\n",
       "      <th>4</th>\n",
       "      <th>5</th>\n",
       "      <th>6</th>\n",
       "    </tr>\n",
       "  </thead>\n",
       "  <tbody>\n",
       "    <tr>\n",
       "      <th>0</th>\n",
       "      <td>1</td>\n",
       "      <td>-0.311367</td>\n",
       "      <td>-0.737698</td>\n",
       "      <td>0.096950</td>\n",
       "      <td>0.544198</td>\n",
       "      <td>0.229695</td>\n",
       "      <td>-0.071520</td>\n",
       "      <td>-0.169446</td>\n",
       "    </tr>\n",
       "    <tr>\n",
       "      <th>1</th>\n",
       "      <td>1</td>\n",
       "      <td>-0.651456</td>\n",
       "      <td>-1.088457</td>\n",
       "      <td>0.424395</td>\n",
       "      <td>1.184739</td>\n",
       "      <td>0.709082</td>\n",
       "      <td>-0.461936</td>\n",
       "      <td>-0.771806</td>\n",
       "    </tr>\n",
       "    <tr>\n",
       "      <th>2</th>\n",
       "      <td>1</td>\n",
       "      <td>-0.230283</td>\n",
       "      <td>0.829027</td>\n",
       "      <td>0.053030</td>\n",
       "      <td>0.687286</td>\n",
       "      <td>-0.190911</td>\n",
       "      <td>0.043964</td>\n",
       "      <td>-0.158270</td>\n",
       "    </tr>\n",
       "    <tr>\n",
       "      <th>3</th>\n",
       "      <td>1</td>\n",
       "      <td>0.239934</td>\n",
       "      <td>1.016099</td>\n",
       "      <td>0.057569</td>\n",
       "      <td>1.032456</td>\n",
       "      <td>0.243797</td>\n",
       "      <td>0.058495</td>\n",
       "      <td>0.247722</td>\n",
       "    </tr>\n",
       "    <tr>\n",
       "      <th>4</th>\n",
       "      <td>1</td>\n",
       "      <td>-0.703364</td>\n",
       "      <td>1.630762</td>\n",
       "      <td>0.494721</td>\n",
       "      <td>2.659386</td>\n",
       "      <td>-1.147020</td>\n",
       "      <td>0.806773</td>\n",
       "      <td>-1.870517</td>\n",
       "    </tr>\n",
       "  </tbody>\n",
       "</table>\n",
       "</div>"
      ],
      "text/plain": [
       "   00         0         1         2         3         4         5         6\n",
       "0   1 -0.311367 -0.737698  0.096950  0.544198  0.229695 -0.071520 -0.169446\n",
       "1   1 -0.651456 -1.088457  0.424395  1.184739  0.709082 -0.461936 -0.771806\n",
       "2   1 -0.230283  0.829027  0.053030  0.687286 -0.190911  0.043964 -0.158270\n",
       "3   1  0.239934  1.016099  0.057569  1.032456  0.243797  0.058495  0.247722\n",
       "4   1 -0.703364  1.630762  0.494721  2.659386 -1.147020  0.806773 -1.870517"
      ]
     },
     "execution_count": 7,
     "metadata": {},
     "output_type": "execute_result"
    }
   ],
   "source": [
    "# Add higher order term(s) to the hypothesis\n",
    "X[2]=X[0]**2\n",
    "X[3]=X[1]**2\n",
    "X[4]=X[0]*X[1]\n",
    "X[5]=(X[0]**2)*X[1]\n",
    "X[6]=X[0]*(X[1]**2)\n",
    "X.head()"
   ]
  },
  {
   "cell_type": "code",
   "execution_count": 8,
   "metadata": {},
   "outputs": [],
   "source": [
    "#Initiating feature parameters, theta\n",
    "theta = np.array([0.1]*len(X.columns))"
   ]
  },
  {
   "cell_type": "code",
   "execution_count": 9,
   "metadata": {},
   "outputs": [],
   "source": [
    "#Get the number of training data\n",
    "m = len(df)"
   ]
  },
  {
   "cell_type": "code",
   "execution_count": 10,
   "metadata": {},
   "outputs": [],
   "source": [
    "#Define the hypothesis function\n",
    "def hypothesis(theta, X):\n",
    "    y=0\n",
    "    for value in zip(theta,X):\n",
    "        y+=value[0]*X[value[1]]\n",
    "\n",
    "    return y"
   ]
  },
  {
   "cell_type": "code",
   "execution_count": 11,
   "metadata": {},
   "outputs": [],
   "source": [
    "#Define the cost function\n",
    "def computeCost(X, y, theta):\n",
    "    y1 = hypothesis(theta, X)\n",
    "    #y1=np.sum(y1, axis=1)\n",
    "    return sum(np.sqrt((y1-y)**2))/(2*len(X))"
   ]
  },
  {
   "cell_type": "code",
   "execution_count": 12,
   "metadata": {},
   "outputs": [],
   "source": [
    "#Define the function for gradient descent\n",
    "def gradientDescent(X, y, theta, alpha, i):\n",
    "    J = []  #cost function in each iterations\n",
    "    k = 0\n",
    "    while k < i:        \n",
    "        y1 = hypothesis(theta, X)\n",
    "        #y1 = np.sum(y1, axis=1)\n",
    "        for c in range(0, len(X.columns)):\n",
    "            theta[c] = theta[c] - alpha*(sum((y1-y)*X.iloc[:,c])/len(X))\n",
    "        j = computeCost(X, y, theta)\n",
    "        J.append(j)\n",
    "        k += 1\n",
    "    return J, j, theta"
   ]
  },
  {
   "cell_type": "code",
   "execution_count": 13,
   "metadata": {},
   "outputs": [
    {
     "data": {
      "image/png": "[encoded data removed]",
      "text/plain": [
       "<Figure size 432x288 with 1 Axes>"
      ]
     },
     "metadata": {
      "needs_background": "light"
     },
     "output_type": "display_data"
    }
   ],
   "source": [
    "#Use the gradient descent method to find the cost.\n",
    "alpha = 0.05 #learning rate\n",
    "iterations_no = 200 #number of iteration\n",
    "\n",
    "#Run the gradient descent\n",
    "J, j, theta = gradientDescent(X, y, theta, alpha, iterations_no)\n",
    "\n",
    "#Predict the output, y_hat, using the optimized theta\n",
    "y_hat = hypothesis(theta, X)\n",
    "\n",
    "#Check the learning rate and number of iteration are fine\n",
    "plt.figure()\n",
    "plt.scatter(x=list(range(0, iterations_no)), y=J)\n",
    "plt.xlabel('Number of iteration')\n",
    "plt.ylabel('Cost')\n",
    "plt.show()"
   ]
  },
  {
   "cell_type": "code",
   "execution_count": 14,
   "metadata": {},
   "outputs": [
    {
     "name": "stdout",
     "output_type": "stream",
     "text": [
      "Root Mean Squared Error =  0.49417213009635386\n",
      "KstestResult(statistic=0.03355704697986577, pvalue=0.9961948501419005)\n"
     ]
    },
    {
     "data": {
      "image/png": "[encoded data removed]",
      "text/plain": [
       "<Figure size 432x288 with 1 Axes>"
      ]
     },
     "metadata": {
      "needs_background": "light"
     },
     "output_type": "display_data"
    }
   ],
   "source": [
    "#Model evaluation (y vs. y_hat)\n",
    "RMSE = np.sum((y-y_hat)**2)/m # Root Mean Square Error\n",
    "print('Root Mean Squared Error = ',RMSE)\n",
    "#K-S test and the p-value between the true and predicted values\n",
    "print(scipy.stats.ks_2samp(y,y_hat))\n",
    "\n",
    "#Plot the true and predicted values\n",
    "plt.figure()\n",
    "plt.scatter(x=list(range(0, m)),y= y, color='blue',marker='s')         \n",
    "plt.scatter(x=list(range(0, m)), y=y_hat, color='cyan',marker='x')\n",
    "plt.ylabel('y')\n",
    "plt.legend(['True','Predicted'])\n",
    "plt.show()"
   ]
  },
  {
   "cell_type": "code",
   "execution_count": 15,
   "metadata": {},
   "outputs": [
    {
     "name": "stdout",
     "output_type": "stream",
     "text": [
      "[  3.27017922  -9.05112784 -15.20559825 -24.91266018   0.42448759\n",
      " -29.95630349 -37.14498043  -0.14573458]\n"
     ]
    }
   ],
   "source": [
    "# Get the parameters for the features\n",
    "print(theta)"
   ]
  },
  {
   "cell_type": "markdown",
   "metadata": {},
   "source": [
    "# Column C as a function of column A and B\n",
    "\n",
    "$C(A,B)\\approx3.27-9.05A-15.21B-24.91A^{2}+0.42B^{2}-29.96AB-37.14A^{2}B-0.15AB^{2}$"
   ]
  },
  {
   "cell_type": "code",
   "execution_count": null,
   "metadata": {},
   "outputs": [],
   "source": []
  }
 ],
 "metadata": {
  "kernelspec": {
   "display_name": "Python 3 (ipykernel)",
   "language": "python",
   "name": "python3"
  },
  "language_info": {
   "codemirror_mode": {
    "name": "ipython",
    "version": 3
   },
   "file_extension": ".py",
   "mimetype": "text/x-python",
   "name": "python",
   "nbconvert_exporter": "python",
   "pygments_lexer": "ipython3",
   "version": "3.8.9"
  }
 },
 "nbformat": 4,
 "nbformat_minor": 4
}
